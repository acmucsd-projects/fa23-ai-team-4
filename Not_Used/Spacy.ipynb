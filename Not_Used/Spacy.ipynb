{
  "cells": [
    {
      "cell_type": "code",
      "execution_count": 1,
      "metadata": {
        "colab": {
          "base_uri": "https://localhost:8080/"
        },
        "id": "sEqrz-6X9LlY",
        "outputId": "1dfe7b76-f238-467b-9f89-55b32bca7ea1"
      },
      "outputs": [
        {
          "name": "stdout",
          "output_type": "stream",
          "text": [
            "Collecting locationtagger\n",
            "  Using cached locationtagger-0.0.1-py3-none-any.whl (1.6 MB)\n",
            "Collecting nltk (from locationtagger)\n",
            "  Using cached nltk-3.8.1-py3-none-any.whl (1.5 MB)\n",
            "Collecting spacy (from locationtagger)\n",
            "  Using cached spacy-3.7.2-cp310-cp310-macosx_11_0_arm64.whl.metadata (25 kB)\n",
            "Collecting newspaper3k (from locationtagger)\n",
            "  Using cached newspaper3k-0.2.8-py3-none-any.whl (211 kB)\n",
            "Collecting pycountry (from locationtagger)\n",
            "  Using cached pycountry-22.3.5-py2.py3-none-any.whl\n",
            "Collecting beautifulsoup4>=4.4.1 (from newspaper3k->locationtagger)\n",
            "  Using cached beautifulsoup4-4.12.2-py3-none-any.whl (142 kB)\n",
            "Collecting Pillow>=3.3.0 (from newspaper3k->locationtagger)\n",
            "  Using cached Pillow-10.1.0-cp310-cp310-macosx_11_0_arm64.whl.metadata (9.5 kB)\n",
            "Collecting PyYAML>=3.11 (from newspaper3k->locationtagger)\n",
            "  Using cached PyYAML-6.0.1-cp310-cp310-macosx_11_0_arm64.whl.metadata (2.1 kB)\n",
            "Collecting cssselect>=0.9.2 (from newspaper3k->locationtagger)\n",
            "  Using cached cssselect-1.2.0-py2.py3-none-any.whl (18 kB)\n",
            "Collecting lxml>=3.6.0 (from newspaper3k->locationtagger)\n",
            "  Using cached lxml-4.9.3-cp310-cp310-macosx_10_9_universal2.whl\n",
            "Collecting requests>=2.10.0 (from newspaper3k->locationtagger)\n",
            "  Using cached requests-2.31.0-py3-none-any.whl.metadata (4.6 kB)\n",
            "Collecting feedparser>=5.2.1 (from newspaper3k->locationtagger)\n",
            "  Using cached feedparser-6.0.10-py3-none-any.whl (81 kB)\n",
            "Collecting tldextract>=2.0.1 (from newspaper3k->locationtagger)\n",
            "  Using cached tldextract-5.1.0-py3-none-any.whl.metadata (11 kB)\n",
            "Collecting feedfinder2>=0.0.4 (from newspaper3k->locationtagger)\n",
            "  Using cached feedfinder2-0.0.4-py3-none-any.whl\n",
            "Collecting jieba3k>=0.35.1 (from newspaper3k->locationtagger)\n",
            "  Using cached jieba3k-0.35.1-py3-none-any.whl\n",
            "Requirement already satisfied: python-dateutil>=2.5.3 in ./.venv/lib/python3.10/site-packages (from newspaper3k->locationtagger) (2.8.2)\n",
            "Collecting tinysegmenter==0.3 (from newspaper3k->locationtagger)\n",
            "  Using cached tinysegmenter-0.3-py3-none-any.whl\n",
            "Collecting click (from nltk->locationtagger)\n",
            "  Using cached click-8.1.7-py3-none-any.whl.metadata (3.0 kB)\n",
            "Collecting joblib (from nltk->locationtagger)\n",
            "  Using cached joblib-1.3.2-py3-none-any.whl.metadata (5.4 kB)\n",
            "Collecting regex>=2021.8.3 (from nltk->locationtagger)\n",
            "  Using cached regex-2023.10.3-cp310-cp310-macosx_11_0_arm64.whl.metadata (40 kB)\n",
            "Collecting tqdm (from nltk->locationtagger)\n",
            "  Using cached tqdm-4.66.1-py3-none-any.whl.metadata (57 kB)\n",
            "Requirement already satisfied: setuptools in ./.venv/lib/python3.10/site-packages (from pycountry->locationtagger) (58.1.0)\n",
            "Collecting spacy-legacy<3.1.0,>=3.0.11 (from spacy->locationtagger)\n",
            "  Using cached spacy_legacy-3.0.12-py2.py3-none-any.whl (29 kB)\n",
            "Collecting spacy-loggers<2.0.0,>=1.0.0 (from spacy->locationtagger)\n",
            "  Using cached spacy_loggers-1.0.5-py3-none-any.whl.metadata (23 kB)\n",
            "Collecting murmurhash<1.1.0,>=0.28.0 (from spacy->locationtagger)\n",
            "  Using cached murmurhash-1.0.10-cp310-cp310-macosx_11_0_arm64.whl.metadata (2.0 kB)\n",
            "Collecting cymem<2.1.0,>=2.0.2 (from spacy->locationtagger)\n",
            "  Using cached cymem-2.0.8-cp310-cp310-macosx_11_0_arm64.whl.metadata (8.4 kB)\n",
            "Collecting preshed<3.1.0,>=3.0.2 (from spacy->locationtagger)\n",
            "  Using cached preshed-3.0.9-cp310-cp310-macosx_11_0_arm64.whl.metadata (2.2 kB)\n",
            "Collecting thinc<8.3.0,>=8.1.8 (from spacy->locationtagger)\n",
            "  Using cached thinc-8.2.1-cp310-cp310-macosx_11_0_arm64.whl.metadata (15 kB)\n",
            "Collecting wasabi<1.2.0,>=0.9.1 (from spacy->locationtagger)\n",
            "  Using cached wasabi-1.1.2-py3-none-any.whl.metadata (28 kB)\n",
            "Collecting srsly<3.0.0,>=2.4.3 (from spacy->locationtagger)\n",
            "  Using cached srsly-2.4.8-cp310-cp310-macosx_11_0_arm64.whl.metadata (20 kB)\n",
            "Collecting catalogue<2.1.0,>=2.0.6 (from spacy->locationtagger)\n",
            "  Using cached catalogue-2.0.10-py3-none-any.whl.metadata (14 kB)\n",
            "Collecting weasel<0.4.0,>=0.1.0 (from spacy->locationtagger)\n",
            "  Using cached weasel-0.3.4-py3-none-any.whl.metadata (4.7 kB)\n",
            "Collecting typer<0.10.0,>=0.3.0 (from spacy->locationtagger)\n",
            "  Using cached typer-0.9.0-py3-none-any.whl (45 kB)\n",
            "Collecting smart-open<7.0.0,>=5.2.1 (from spacy->locationtagger)\n",
            "  Using cached smart_open-6.4.0-py3-none-any.whl.metadata (21 kB)\n",
            "Collecting pydantic!=1.8,!=1.8.1,<3.0.0,>=1.7.4 (from spacy->locationtagger)\n",
            "  Downloading pydantic-2.5.0-py3-none-any.whl.metadata (174 kB)\n",
            "\u001b[2K     \u001b[90m━━━━━━━━━━━━━━━━━━━━━━━━━━━━━━━━━━━━━━\u001b[0m \u001b[32m174.6/174.6 kB\u001b[0m \u001b[31m44.7 kB/s\u001b[0m eta \u001b[36m0:00:00\u001b[0m00:01\u001b[0m00:01\u001b[0m\n",
            "\u001b[?25hCollecting jinja2 (from spacy->locationtagger)\n",
            "  Using cached Jinja2-3.1.2-py3-none-any.whl (133 kB)\n",
            "Requirement already satisfied: packaging>=20.0 in ./.venv/lib/python3.10/site-packages (from spacy->locationtagger) (23.2)\n",
            "Collecting langcodes<4.0.0,>=3.2.0 (from spacy->locationtagger)\n",
            "  Using cached langcodes-3.3.0-py3-none-any.whl (181 kB)\n",
            "Collecting numpy>=1.19.0 (from spacy->locationtagger)\n",
            "  Downloading numpy-1.26.2-cp310-cp310-macosx_11_0_arm64.whl.metadata (61 kB)\n",
            "\u001b[2K     \u001b[90m━━━━━━━━━━━━━━━━━━━━━━━━━━━━━━━━━━━━━━━━\u001b[0m \u001b[32m61.2/61.2 kB\u001b[0m \u001b[31m52.9 kB/s\u001b[0m eta \u001b[36m0:00:00\u001b[0ma \u001b[36m0:00:01\u001b[0m\n",
            "\u001b[?25hCollecting soupsieve>1.2 (from beautifulsoup4>=4.4.1->newspaper3k->locationtagger)\n",
            "  Using cached soupsieve-2.5-py3-none-any.whl.metadata (4.7 kB)\n",
            "Requirement already satisfied: six in ./.venv/lib/python3.10/site-packages (from feedfinder2>=0.0.4->newspaper3k->locationtagger) (1.16.0)\n",
            "Collecting sgmllib3k (from feedparser>=5.2.1->newspaper3k->locationtagger)\n",
            "  Using cached sgmllib3k-1.0.0-py3-none-any.whl\n",
            "Collecting annotated-types>=0.4.0 (from pydantic!=1.8,!=1.8.1,<3.0.0,>=1.7.4->spacy->locationtagger)\n",
            "  Using cached annotated_types-0.6.0-py3-none-any.whl.metadata (12 kB)\n",
            "Collecting pydantic-core==2.14.1 (from pydantic!=1.8,!=1.8.1,<3.0.0,>=1.7.4->spacy->locationtagger)\n",
            "  Downloading pydantic_core-2.14.1-cp310-cp310-macosx_11_0_arm64.whl.metadata (6.5 kB)\n",
            "Collecting typing-extensions>=4.6.1 (from pydantic!=1.8,!=1.8.1,<3.0.0,>=1.7.4->spacy->locationtagger)\n",
            "  Using cached typing_extensions-4.8.0-py3-none-any.whl.metadata (3.0 kB)\n",
            "Collecting charset-normalizer<4,>=2 (from requests>=2.10.0->newspaper3k->locationtagger)\n",
            "  Using cached charset_normalizer-3.3.2-cp310-cp310-macosx_11_0_arm64.whl.metadata (33 kB)\n",
            "Collecting idna<4,>=2.5 (from requests>=2.10.0->newspaper3k->locationtagger)\n",
            "  Using cached idna-3.4-py3-none-any.whl (61 kB)\n",
            "Collecting urllib3<3,>=1.21.1 (from requests>=2.10.0->newspaper3k->locationtagger)\n",
            "  Downloading urllib3-2.1.0-py3-none-any.whl.metadata (6.4 kB)\n",
            "Collecting certifi>=2017.4.17 (from requests>=2.10.0->newspaper3k->locationtagger)\n",
            "  Using cached certifi-2023.7.22-py3-none-any.whl.metadata (2.2 kB)\n",
            "Collecting blis<0.8.0,>=0.7.8 (from thinc<8.3.0,>=8.1.8->spacy->locationtagger)\n",
            "  Using cached blis-0.7.11-cp310-cp310-macosx_11_0_arm64.whl.metadata (7.4 kB)\n",
            "Collecting confection<1.0.0,>=0.0.1 (from thinc<8.3.0,>=8.1.8->spacy->locationtagger)\n",
            "  Using cached confection-0.1.3-py3-none-any.whl.metadata (19 kB)\n",
            "Collecting requests-file>=1.4 (from tldextract>=2.0.1->newspaper3k->locationtagger)\n",
            "  Using cached requests_file-1.5.1-py2.py3-none-any.whl (3.7 kB)\n",
            "Collecting filelock>=3.0.8 (from tldextract>=2.0.1->newspaper3k->locationtagger)\n",
            "  Using cached filelock-3.13.1-py3-none-any.whl.metadata (2.8 kB)\n",
            "Collecting cloudpathlib<0.17.0,>=0.7.0 (from weasel<0.4.0,>=0.1.0->spacy->locationtagger)\n",
            "  Using cached cloudpathlib-0.16.0-py3-none-any.whl.metadata (14 kB)\n",
            "Collecting MarkupSafe>=2.0 (from jinja2->spacy->locationtagger)\n",
            "  Using cached MarkupSafe-2.1.3-cp310-cp310-macosx_10_9_universal2.whl.metadata (3.0 kB)\n",
            "Using cached spacy-3.7.2-cp310-cp310-macosx_11_0_arm64.whl (6.6 MB)\n",
            "Using cached catalogue-2.0.10-py3-none-any.whl (17 kB)\n",
            "Using cached cymem-2.0.8-cp310-cp310-macosx_11_0_arm64.whl (41 kB)\n",
            "Using cached murmurhash-1.0.10-cp310-cp310-macosx_11_0_arm64.whl (26 kB)\n",
            "Downloading numpy-1.26.2-cp310-cp310-macosx_11_0_arm64.whl (14.0 MB)\n",
            "\u001b[2K   \u001b[90m━━━━━━━━━━━━━━━━━━━━━━━━━━━━━━━━━━━━━━━━\u001b[0m \u001b[32m14.0/14.0 MB\u001b[0m \u001b[31m101.8 kB/s\u001b[0m eta \u001b[36m0:00:00\u001b[0m00:01\u001b[0m0:04\u001b[0mm\n",
            "\u001b[?25hUsing cached Pillow-10.1.0-cp310-cp310-macosx_11_0_arm64.whl (3.3 MB)\n",
            "Using cached preshed-3.0.9-cp310-cp310-macosx_11_0_arm64.whl (127 kB)\n",
            "Downloading pydantic-2.5.0-py3-none-any.whl (407 kB)\n",
            "\u001b[2K   \u001b[90m━━━━━━━━━━━━━━━━━━━━━━━━━━━━━━━━━━━━━━━\u001b[0m \u001b[32m407.5/407.5 kB\u001b[0m \u001b[31m255.2 kB/s\u001b[0m eta \u001b[36m0:00:00\u001b[0m00:01\u001b[0m00:01\u001b[0m\n",
            "\u001b[?25hDownloading pydantic_core-2.14.1-cp310-cp310-macosx_11_0_arm64.whl (1.7 MB)\n",
            "\u001b[2K   \u001b[90m━━━━━━━━━━━━━━━━━━━━━━━━━━━━━━━━━━━━━━━━\u001b[0m \u001b[32m1.7/1.7 MB\u001b[0m \u001b[31m480.7 kB/s\u001b[0m eta \u001b[36m0:00:00\u001b[0m00:01\u001b[0m00:01\u001b[0m\n",
            "\u001b[?25hUsing cached PyYAML-6.0.1-cp310-cp310-macosx_11_0_arm64.whl (169 kB)\n",
            "Using cached regex-2023.10.3-cp310-cp310-macosx_11_0_arm64.whl (291 kB)\n",
            "Using cached requests-2.31.0-py3-none-any.whl (62 kB)\n",
            "Using cached smart_open-6.4.0-py3-none-any.whl (57 kB)\n",
            "Using cached spacy_loggers-1.0.5-py3-none-any.whl (22 kB)\n",
            "Using cached srsly-2.4.8-cp310-cp310-macosx_11_0_arm64.whl (491 kB)\n",
            "Using cached thinc-8.2.1-cp310-cp310-macosx_11_0_arm64.whl (785 kB)\n",
            "Using cached tldextract-5.1.0-py3-none-any.whl (97 kB)\n",
            "Using cached tqdm-4.66.1-py3-none-any.whl (78 kB)\n",
            "Using cached click-8.1.7-py3-none-any.whl (97 kB)\n",
            "Using cached wasabi-1.1.2-py3-none-any.whl (27 kB)\n",
            "Using cached weasel-0.3.4-py3-none-any.whl (50 kB)\n",
            "Using cached joblib-1.3.2-py3-none-any.whl (302 kB)\n",
            "Using cached annotated_types-0.6.0-py3-none-any.whl (12 kB)\n",
            "Using cached blis-0.7.11-cp310-cp310-macosx_11_0_arm64.whl (1.1 MB)\n",
            "Using cached certifi-2023.7.22-py3-none-any.whl (158 kB)\n",
            "Using cached charset_normalizer-3.3.2-cp310-cp310-macosx_11_0_arm64.whl (120 kB)\n",
            "Using cached cloudpathlib-0.16.0-py3-none-any.whl (45 kB)\n",
            "Using cached confection-0.1.3-py3-none-any.whl (34 kB)\n",
            "Using cached filelock-3.13.1-py3-none-any.whl (11 kB)\n",
            "Using cached MarkupSafe-2.1.3-cp310-cp310-macosx_10_9_universal2.whl (17 kB)\n",
            "Using cached soupsieve-2.5-py3-none-any.whl (36 kB)\n",
            "Using cached typing_extensions-4.8.0-py3-none-any.whl (31 kB)\n",
            "Downloading urllib3-2.1.0-py3-none-any.whl (104 kB)\n",
            "\u001b[2K   \u001b[90m━━━━━━━━━━━━━━━━━━━━━━━━━━━━━━━━━━━━━━━\u001b[0m \u001b[32m104.6/104.6 kB\u001b[0m \u001b[31m886.0 kB/s\u001b[0m eta \u001b[36m0:00:00\u001b[0m00:01\u001b[0m00:01\u001b[0m\n",
            "\u001b[?25hInstalling collected packages: tinysegmenter, sgmllib3k, jieba3k, cymem, wasabi, urllib3, typing-extensions, tqdm, spacy-loggers, spacy-legacy, soupsieve, smart-open, regex, PyYAML, pycountry, Pillow, numpy, murmurhash, MarkupSafe, lxml, langcodes, joblib, idna, filelock, feedparser, cssselect, click, charset-normalizer, certifi, catalogue, annotated-types, typer, srsly, requests, pydantic-core, preshed, nltk, jinja2, cloudpathlib, blis, beautifulsoup4, requests-file, pydantic, feedfinder2, tldextract, confection, weasel, thinc, newspaper3k, spacy, locationtagger\n",
            "Successfully installed MarkupSafe-2.1.3 Pillow-10.1.0 PyYAML-6.0.1 annotated-types-0.6.0 beautifulsoup4-4.12.2 blis-0.7.11 catalogue-2.0.10 certifi-2023.7.22 charset-normalizer-3.3.2 click-8.1.7 cloudpathlib-0.16.0 confection-0.1.3 cssselect-1.2.0 cymem-2.0.8 feedfinder2-0.0.4 feedparser-6.0.10 filelock-3.13.1 idna-3.4 jieba3k-0.35.1 jinja2-3.1.2 joblib-1.3.2 langcodes-3.3.0 locationtagger-0.0.1 lxml-4.9.3 murmurhash-1.0.10 newspaper3k-0.2.8 nltk-3.8.1 numpy-1.26.2 preshed-3.0.9 pycountry-22.3.5 pydantic-2.5.0 pydantic-core-2.14.1 regex-2023.10.3 requests-2.31.0 requests-file-1.5.1 sgmllib3k-1.0.0 smart-open-6.4.0 soupsieve-2.5 spacy-3.7.2 spacy-legacy-3.0.12 spacy-loggers-1.0.5 srsly-2.4.8 thinc-8.2.1 tinysegmenter-0.3 tldextract-5.1.0 tqdm-4.66.1 typer-0.9.0 typing-extensions-4.8.0 urllib3-2.1.0 wasabi-1.1.2 weasel-0.3.4\n",
            "Requirement already satisfied: newspaper3k in ./.venv/lib/python3.10/site-packages (0.2.8)\n",
            "Requirement already satisfied: beautifulsoup4>=4.4.1 in ./.venv/lib/python3.10/site-packages (from newspaper3k) (4.12.2)\n",
            "Requirement already satisfied: Pillow>=3.3.0 in ./.venv/lib/python3.10/site-packages (from newspaper3k) (10.1.0)\n",
            "Requirement already satisfied: PyYAML>=3.11 in ./.venv/lib/python3.10/site-packages (from newspaper3k) (6.0.1)\n",
            "Requirement already satisfied: cssselect>=0.9.2 in ./.venv/lib/python3.10/site-packages (from newspaper3k) (1.2.0)\n",
            "Requirement already satisfied: lxml>=3.6.0 in ./.venv/lib/python3.10/site-packages (from newspaper3k) (4.9.3)\n",
            "Requirement already satisfied: nltk>=3.2.1 in ./.venv/lib/python3.10/site-packages (from newspaper3k) (3.8.1)\n",
            "Requirement already satisfied: requests>=2.10.0 in ./.venv/lib/python3.10/site-packages (from newspaper3k) (2.31.0)\n",
            "Requirement already satisfied: feedparser>=5.2.1 in ./.venv/lib/python3.10/site-packages (from newspaper3k) (6.0.10)\n",
            "Requirement already satisfied: tldextract>=2.0.1 in ./.venv/lib/python3.10/site-packages (from newspaper3k) (5.1.0)\n",
            "Requirement already satisfied: feedfinder2>=0.0.4 in ./.venv/lib/python3.10/site-packages (from newspaper3k) (0.0.4)\n",
            "Requirement already satisfied: jieba3k>=0.35.1 in ./.venv/lib/python3.10/site-packages (from newspaper3k) (0.35.1)\n",
            "Requirement already satisfied: python-dateutil>=2.5.3 in ./.venv/lib/python3.10/site-packages (from newspaper3k) (2.8.2)\n",
            "Requirement already satisfied: tinysegmenter==0.3 in ./.venv/lib/python3.10/site-packages (from newspaper3k) (0.3)\n",
            "Requirement already satisfied: soupsieve>1.2 in ./.venv/lib/python3.10/site-packages (from beautifulsoup4>=4.4.1->newspaper3k) (2.5)\n",
            "Requirement already satisfied: six in ./.venv/lib/python3.10/site-packages (from feedfinder2>=0.0.4->newspaper3k) (1.16.0)\n",
            "Requirement already satisfied: sgmllib3k in ./.venv/lib/python3.10/site-packages (from feedparser>=5.2.1->newspaper3k) (1.0.0)\n",
            "Requirement already satisfied: click in ./.venv/lib/python3.10/site-packages (from nltk>=3.2.1->newspaper3k) (8.1.7)\n",
            "Requirement already satisfied: joblib in ./.venv/lib/python3.10/site-packages (from nltk>=3.2.1->newspaper3k) (1.3.2)\n",
            "Requirement already satisfied: regex>=2021.8.3 in ./.venv/lib/python3.10/site-packages (from nltk>=3.2.1->newspaper3k) (2023.10.3)\n",
            "Requirement already satisfied: tqdm in ./.venv/lib/python3.10/site-packages (from nltk>=3.2.1->newspaper3k) (4.66.1)\n",
            "Requirement already satisfied: charset-normalizer<4,>=2 in ./.venv/lib/python3.10/site-packages (from requests>=2.10.0->newspaper3k) (3.3.2)\n",
            "Requirement already satisfied: idna<4,>=2.5 in ./.venv/lib/python3.10/site-packages (from requests>=2.10.0->newspaper3k) (3.4)\n",
            "Requirement already satisfied: urllib3<3,>=1.21.1 in ./.venv/lib/python3.10/site-packages (from requests>=2.10.0->newspaper3k) (2.1.0)\n",
            "Requirement already satisfied: certifi>=2017.4.17 in ./.venv/lib/python3.10/site-packages (from requests>=2.10.0->newspaper3k) (2023.7.22)\n",
            "Requirement already satisfied: requests-file>=1.4 in ./.venv/lib/python3.10/site-packages (from tldextract>=2.0.1->newspaper3k) (1.5.1)\n",
            "Requirement already satisfied: filelock>=3.0.8 in ./.venv/lib/python3.10/site-packages (from tldextract>=2.0.1->newspaper3k) (3.13.1)\n",
            "Requirement already satisfied: pycountry in ./.venv/lib/python3.10/site-packages (22.3.5)\n",
            "Requirement already satisfied: setuptools in ./.venv/lib/python3.10/site-packages (from pycountry) (58.1.0)\n"
          ]
        },
        {
          "ename": "OSError",
          "evalue": "[E050] Can't find model 'en_core_web_sm'. It doesn't seem to be a Python package or a valid path to a data directory.",
          "output_type": "error",
          "traceback": [
            "\u001b[0;31m---------------------------------------------------------------------------\u001b[0m",
            "\u001b[0;31mOSError\u001b[0m                                   Traceback (most recent call last)",
            "\u001b[1;32m/Users/vishalpatel/Desktop/fa23-ai-team-byte-benders/Spacy.ipynb Cell 1\u001b[0m line \u001b[0;36m5\n\u001b[1;32m      <a href='vscode-notebook-cell:/Users/vishalpatel/Desktop/fa23-ai-team-byte-benders/Spacy.ipynb#W0sZmlsZQ%3D%3D?line=1'>2</a>\u001b[0m get_ipython()\u001b[39m.\u001b[39msystem(\u001b[39m'\u001b[39m\u001b[39mpip install newspaper3k\u001b[39m\u001b[39m'\u001b[39m)\n\u001b[1;32m      <a href='vscode-notebook-cell:/Users/vishalpatel/Desktop/fa23-ai-team-byte-benders/Spacy.ipynb#W0sZmlsZQ%3D%3D?line=2'>3</a>\u001b[0m get_ipython()\u001b[39m.\u001b[39msystem(\u001b[39m'\u001b[39m\u001b[39mpip install pycountry\u001b[39m\u001b[39m'\u001b[39m)\n\u001b[0;32m----> <a href='vscode-notebook-cell:/Users/vishalpatel/Desktop/fa23-ai-team-byte-benders/Spacy.ipynb#W0sZmlsZQ%3D%3D?line=4'>5</a>\u001b[0m \u001b[39mimport\u001b[39;00m \u001b[39mlocationtagger\u001b[39;00m\n\u001b[1;32m      <a href='vscode-notebook-cell:/Users/vishalpatel/Desktop/fa23-ai-team-byte-benders/Spacy.ipynb#W0sZmlsZQ%3D%3D?line=5'>6</a>\u001b[0m \u001b[39mimport\u001b[39;00m \u001b[39mpycountry\u001b[39;00m\n\u001b[1;32m      <a href='vscode-notebook-cell:/Users/vishalpatel/Desktop/fa23-ai-team-byte-benders/Spacy.ipynb#W0sZmlsZQ%3D%3D?line=6'>7</a>\u001b[0m \u001b[39mimport\u001b[39;00m \u001b[39mnewspaper\u001b[39;00m\n",
            "File \u001b[0;32m~/Desktop/fa23-ai-team-byte-benders/.venv/lib/python3.10/site-packages/locationtagger/__init__.py:1\u001b[0m\n\u001b[0;32m----> 1\u001b[0m \u001b[39mfrom\u001b[39;00m \u001b[39m.\u001b[39;00m\u001b[39mlocationextractor\u001b[39;00m \u001b[39mimport\u001b[39;00m NamedEntityExtractor, LocationExtractor\n\u001b[1;32m      3\u001b[0m \u001b[39mdef\u001b[39;00m \u001b[39mfind_locations\u001b[39m(url\u001b[39m=\u001b[39m\u001b[39mNone\u001b[39;00m, text\u001b[39m=\u001b[39m\u001b[39mNone\u001b[39;00m):\n\u001b[1;32m      4\u001b[0m     e \u001b[39m=\u001b[39m NamedEntityExtractor(url\u001b[39m=\u001b[39murl, text\u001b[39m=\u001b[39mtext)\n",
            "File \u001b[0;32m~/Desktop/fa23-ai-team-byte-benders/.venv/lib/python3.10/site-packages/locationtagger/locationextractor.py:10\u001b[0m\n\u001b[1;32m      8\u001b[0m \u001b[39mimport\u001b[39;00m \u001b[39mspacy\u001b[39;00m\n\u001b[1;32m      9\u001b[0m \u001b[39mfrom\u001b[39;00m \u001b[39mnewspaper\u001b[39;00m \u001b[39mimport\u001b[39;00m Article\n\u001b[0;32m---> 10\u001b[0m nlp \u001b[39m=\u001b[39m spacy\u001b[39m.\u001b[39;49mload(\u001b[39m'\u001b[39;49m\u001b[39men_core_web_sm\u001b[39;49m\u001b[39m'\u001b[39;49m)\n\u001b[1;32m     11\u001b[0m cur_dir \u001b[39m=\u001b[39m os\u001b[39m.\u001b[39mpath\u001b[39m.\u001b[39mdirname(os\u001b[39m.\u001b[39mpath\u001b[39m.\u001b[39mrealpath(\u001b[39m__file__\u001b[39m))\n\u001b[1;32m     12\u001b[0m \u001b[39mwith\u001b[39;00m \u001b[39mopen\u001b[39m(cur_dir \u001b[39m+\u001b[39m \u001b[39m\"\u001b[39m\u001b[39m/data/words_to_ignore.csv\u001b[39m\u001b[39m\"\u001b[39m) \u001b[39mas\u001b[39;00m file:\n",
            "File \u001b[0;32m~/Desktop/fa23-ai-team-byte-benders/.venv/lib/python3.10/site-packages/spacy/__init__.py:51\u001b[0m, in \u001b[0;36mload\u001b[0;34m(name, vocab, disable, enable, exclude, config)\u001b[0m\n\u001b[1;32m     27\u001b[0m \u001b[39mdef\u001b[39;00m \u001b[39mload\u001b[39m(\n\u001b[1;32m     28\u001b[0m     name: Union[\u001b[39mstr\u001b[39m, Path],\n\u001b[1;32m     29\u001b[0m     \u001b[39m*\u001b[39m,\n\u001b[0;32m   (...)\u001b[0m\n\u001b[1;32m     34\u001b[0m     config: Union[Dict[\u001b[39mstr\u001b[39m, Any], Config] \u001b[39m=\u001b[39m util\u001b[39m.\u001b[39mSimpleFrozenDict(),\n\u001b[1;32m     35\u001b[0m ) \u001b[39m-\u001b[39m\u001b[39m>\u001b[39m Language:\n\u001b[1;32m     36\u001b[0m \u001b[39m    \u001b[39m\u001b[39m\"\"\"Load a spaCy model from an installed package or a local path.\u001b[39;00m\n\u001b[1;32m     37\u001b[0m \n\u001b[1;32m     38\u001b[0m \u001b[39m    name (str): Package name or model path.\u001b[39;00m\n\u001b[0;32m   (...)\u001b[0m\n\u001b[1;32m     49\u001b[0m \u001b[39m    RETURNS (Language): The loaded nlp object.\u001b[39;00m\n\u001b[1;32m     50\u001b[0m \u001b[39m    \"\"\"\u001b[39;00m\n\u001b[0;32m---> 51\u001b[0m     \u001b[39mreturn\u001b[39;00m util\u001b[39m.\u001b[39;49mload_model(\n\u001b[1;32m     52\u001b[0m         name,\n\u001b[1;32m     53\u001b[0m         vocab\u001b[39m=\u001b[39;49mvocab,\n\u001b[1;32m     54\u001b[0m         disable\u001b[39m=\u001b[39;49mdisable,\n\u001b[1;32m     55\u001b[0m         enable\u001b[39m=\u001b[39;49menable,\n\u001b[1;32m     56\u001b[0m         exclude\u001b[39m=\u001b[39;49mexclude,\n\u001b[1;32m     57\u001b[0m         config\u001b[39m=\u001b[39;49mconfig,\n\u001b[1;32m     58\u001b[0m     )\n",
            "File \u001b[0;32m~/Desktop/fa23-ai-team-byte-benders/.venv/lib/python3.10/site-packages/spacy/util.py:472\u001b[0m, in \u001b[0;36mload_model\u001b[0;34m(name, vocab, disable, enable, exclude, config)\u001b[0m\n\u001b[1;32m    470\u001b[0m \u001b[39mif\u001b[39;00m name \u001b[39min\u001b[39;00m OLD_MODEL_SHORTCUTS:\n\u001b[1;32m    471\u001b[0m     \u001b[39mraise\u001b[39;00m \u001b[39mIOError\u001b[39;00m(Errors\u001b[39m.\u001b[39mE941\u001b[39m.\u001b[39mformat(name\u001b[39m=\u001b[39mname, full\u001b[39m=\u001b[39mOLD_MODEL_SHORTCUTS[name]))  \u001b[39m# type: ignore[index]\u001b[39;00m\n\u001b[0;32m--> 472\u001b[0m \u001b[39mraise\u001b[39;00m \u001b[39mIOError\u001b[39;00m(Errors\u001b[39m.\u001b[39mE050\u001b[39m.\u001b[39mformat(name\u001b[39m=\u001b[39mname))\n",
            "\u001b[0;31mOSError\u001b[0m: [E050] Can't find model 'en_core_web_sm'. It doesn't seem to be a Python package or a valid path to a data directory."
          ]
        }
      ],
      "source": [
        "\n",
        "!pip install locationtagger\n",
        "!pip install newspaper3k\n",
        "!pip install pycountry\n",
        "\n",
        "import locationtagger\n",
        "import pycountry\n",
        "import newspaper\n",
        "\n",
        "!python -m spacy download en_core_web_sm\n",
        "\n",
        "from geopy import geocoders\n",
        "import spacy\n",
        "import nltk\n",
        "nltk.downloader.download('maxent_ne_chunker')\n",
        "nltk.downloader.download('words')\n",
        "nltk.downloader.download('treebank')\n",
        "nltk.downloader.download('maxent_treebank_pos_tagger')\n",
        "nltk.downloader.download('punkt')\n",
        "nltk.download('averaged_perceptron_tagger')"
      ]
    },
    {
      "cell_type": "code",
      "execution_count": null,
      "metadata": {
        "id": "7lnJFkSC9Wkp"
      },
      "outputs": [],
      "source": [
        "#loads the nlp \"english configuration\"\n",
        "nlp = spacy.load(\"en_core_web_sm\")"
      ]
    },
    {
      "cell_type": "code",
      "execution_count": null,
      "metadata": {
        "id": "eg5xKOjG9ZUt"
      },
      "outputs": [],
      "source": [
        "#this is an example text\n",
        "text = \"Paris, the capital of France, is known for its iconic Eiffel Tower. New York City, situated in the United States, is famous for Times Square. London, located in the United Kingdom, boasts historical landmarks like the Big Ben and Buckingham Palace. California, a state on the west coast of the United States, is known for Silicon Valley's tech industry. Tokyo, the capital of Japan, is a bustling metropolis with a mix of modern and traditional elements. Sydney, in Australia, is renowned for its Sydney Opera House. The Great Wall of China stretches across various provinces in China. Rio de Janeiro, in Brazil, is famous for its annual Carnival celebration. Berlin, the capital of Germany, has a rich history and vibrant arts scene. The Sahara Desert, located in Africa, is the largest hot desert in the world. The Amazon Rainforest, spanning multiple countries in South America, is home to diverse wildlife. Mount Everest, situated in the Himalayas, is the highest peak on Earth. Mumbai, in India, is a major financial and entertainment hub. Moscow, the capital of Russia, has a rich cultural heritage. Dubai, in the United Arab Emirates, is known for its modern architecture and luxury shopping. The Pyramids of Egypt, near Cairo, are ancient marvels. Antarctica, the southernmost continent, is covered in ice. The Caribbean Islands, including Jamaica and the Bahamas, are popular tourist destinations. The Vatican City, an independent city-state surrounded by Rome, is the smallest country in the world. The Grand Canyon, in Arizona, is a breathtaking natural wonder. The Colosseum in Rome, Italy, is an ancient amphitheater. In summary, this text includes a mix of cities, countries, states, and various landmarks across different continents\"\n",
        "\n",
        "tokens = nlp(text)\n",
        "token_lst = []\n",
        "#adds all the tokens that are a GPE into a list\n",
        "for token in tokens.ents:\n",
        "    if token.label_ == \"GPE\":\n",
        "        token_lst += [token.text]"
      ]
    },
    {
      "cell_type": "code",
      "execution_count": null,
      "metadata": {
        "id": "-vU3fhWF9fJN"
      },
      "outputs": [],
      "source": [
        "#any token the starts with \"the\" has the \"the\" deleted\n",
        "for i in range(len(token_lst)):\n",
        "    if token_lst[i][0:3] == 'the':\n",
        "        token_lst[i] = token_lst[i][4:]"
      ]
    },
    {
      "cell_type": "code",
      "execution_count": null,
      "metadata": {
        "colab": {
          "base_uri": "https://localhost:8080/"
        },
        "id": "LL5aY_pTHHF_",
        "outputId": "3eeb46db-e695-4b22-e7e8-be93ab155925"
      },
      "outputs": [
        {
          "name": "stdout",
          "output_type": "stream",
          "text": [
            "Location: Paris, Latitude: 48.8534951, Longitude: 2.3483915\n",
            "Location: France, Latitude: 46.603354, Longitude: 1.8883335\n",
            "Location: New York City, Latitude: 40.7127281, Longitude: -74.0060152\n",
            "Location: United States, Latitude: 39.7837304, Longitude: -100.445882\n",
            "Location: London, Latitude: 51.5074456, Longitude: -0.1277653\n",
            "Location: United Kingdom, Latitude: 54.7023545, Longitude: -3.2765753\n",
            "Location: California, Latitude: 36.7014631, Longitude: -118.755997\n",
            "Location: United States, Latitude: 39.7837304, Longitude: -100.445882\n",
            "Location: Tokyo, Latitude: 35.6840574, Longitude: 139.7744912\n",
            "Location: Japan, Latitude: 36.5748441, Longitude: 139.2394179\n",
            "Location: Sydney, Latitude: -33.8698439, Longitude: 151.2082848\n",
            "Location: Australia, Latitude: -24.7761086, Longitude: 134.755\n",
            "Location: China, Latitude: 30.047992, Longitude: -94.3357433\n",
            "Location: Rio de Janeiro, Latitude: -22.9110137, Longitude: -43.2093727\n",
            "Location: Brazil, Latitude: -10.3333333, Longitude: -53.2\n",
            "Location: Berlin, Latitude: 52.5170365, Longitude: 13.3888599\n",
            "Location: Germany, Latitude: 40.4203479, Longitude: -79.1166983\n",
            "Location: Mumbai, Latitude: 19.08157715, Longitude: 72.88662753964906\n",
            "Location: India, Latitude: 22.3511148, Longitude: 78.6677428\n",
            "Location: Moscow, Latitude: 55.625578, Longitude: 37.6063916\n",
            "Location: Russia, Latitude: 40.2338211, Longitude: -84.4096729\n",
            "Location: Dubai, Latitude: 25.2653471, Longitude: 55.2924914\n",
            "Location: United Arab Emirates, Latitude: 24.0002488, Longitude: 53.9994829\n",
            "Location: Egypt, Latitude: 35.8681298, Longitude: -90.9456751\n",
            "Location: Cairo, Latitude: 30.0443879, Longitude: 31.2357257\n",
            "Location: Jamaica, Latitude: 18.1850507, Longitude: -77.3947693\n",
            "Location: Bahamas, Latitude: 24.7736546, Longitude: -78.0000547\n",
            "Location: Vatican City, Latitude: 41.903411, Longitude: 12.4528527\n",
            "Location: Rome, Latitude: 41.8933203, Longitude: 12.4829321\n",
            "Location: Arizona, Latitude: 34.395342, Longitude: -111.763275\n",
            "Location: Rome, Latitude: 41.8933203, Longitude: 12.4829321\n",
            "Location: Italy, Latitude: 42.6384261, Longitude: 12.674297\n"
          ]
        }
      ],
      "source": [
        "#Find the latitude and longitude of the Location\n",
        "geocoder = geocoders.Nominatim(user_agent = \"location tagger\")\n",
        "for i in token_lst:\n",
        "  location = geocoder.geocode(i)\n",
        "  print(f\"Location: {i}, Latitude: {location.latitude}, Longitude: {location.longitude}\")\n"
      ]
    },
    {
      "cell_type": "markdown",
      "metadata": {
        "id": "ZUSwgjcQVED8"
      },
      "source": [
        "The rest of the cell boxes are for the location tagger library. Produces incorrect information"
      ]
    },
    {
      "cell_type": "code",
      "execution_count": null,
      "metadata": {
        "id": "FFwvj72v9mF2"
      },
      "outputs": [],
      "source": [
        "entities = locationtagger.find_locations(text=text)"
      ]
    },
    {
      "cell_type": "code",
      "execution_count": null,
      "metadata": {
        "colab": {
          "base_uri": "https://localhost:8080/"
        },
        "id": "DiARk5m0C0tA",
        "outputId": "06b8204a-94a3-41dc-80bb-d80d1e105ca5"
      },
      "outputs": [
        {
          "data": {
            "text/plain": [
              "['Germany',\n",
              " 'Brazil',\n",
              " 'Australia',\n",
              " 'France',\n",
              " 'Egypt',\n",
              " 'Italy',\n",
              " 'Bahamas',\n",
              " 'Japan',\n",
              " 'Antarctica',\n",
              " 'United Arab Emirates',\n",
              " 'Jamaica',\n",
              " 'United Kingdom',\n",
              " 'India',\n",
              " 'China',\n",
              " 'United States']"
            ]
          },
          "execution_count": 29,
          "metadata": {},
          "output_type": "execute_result"
        }
      ],
      "source": [
        "entities.countries"
      ]
    },
    {
      "cell_type": "code",
      "execution_count": null,
      "metadata": {
        "colab": {
          "base_uri": "https://localhost:8080/"
        },
        "id": "RiD9uCrgE5dA",
        "outputId": "3c624804-08b4-4fb0-ff39-0a36fb82f92e"
      },
      "outputs": [
        {
          "data": {
            "text/plain": [
              "['Tokyo',\n",
              " 'Mumbai',\n",
              " 'Sydney',\n",
              " 'London',\n",
              " 'Rome',\n",
              " 'Dubai',\n",
              " 'Moscow',\n",
              " 'Berlin',\n",
              " 'Paris',\n",
              " 'Jamaica',\n",
              " 'California',\n",
              " 'Egypt',\n",
              " 'Brazil',\n",
              " 'Cairo',\n",
              " 'Antarctica',\n",
              " 'Rio de Janeiro',\n",
              " 'Rio',\n",
              " 'China',\n",
              " 'Italy',\n",
              " 'Russia']"
            ]
          },
          "execution_count": 30,
          "metadata": {},
          "output_type": "execute_result"
        }
      ],
      "source": [
        "entities.cities"
      ]
    },
    {
      "cell_type": "code",
      "execution_count": null,
      "metadata": {
        "colab": {
          "base_uri": "https://localhost:8080/"
        },
        "id": "jOp--derE7_J",
        "outputId": "31dbc448-bcae-4dc6-ca32-a22c8ebac688"
      },
      "outputs": [
        {
          "data": {
            "text/plain": [
              "{'Japan': ['Tokyo'],\n",
              " 'India': ['Mumbai'],\n",
              " 'Australia': ['Sydney'],\n",
              " 'United Kingdom': ['London'],\n",
              " 'Italy': ['Rome'],\n",
              " 'United Arab Emirates': ['Dubai'],\n",
              " 'Russian Federation': ['Moscow', 'China'],\n",
              " 'Germany': ['Berlin'],\n",
              " 'United States': ['London',\n",
              "  'Rome',\n",
              "  'Jamaica',\n",
              "  'California',\n",
              "  'Egypt',\n",
              "  'Paris',\n",
              "  'Berlin',\n",
              "  'Brazil',\n",
              "  'Cairo',\n",
              "  'Moscow',\n",
              "  'Rio',\n",
              "  'China',\n",
              "  'Italy',\n",
              "  'Russia'],\n",
              " 'France': ['Paris'],\n",
              " 'Canada': ['London', 'Sydney', 'Paris'],\n",
              " 'Antarctica': ['Antarctica'],\n",
              " 'Brazil': ['Rio de Janeiro', 'California'],\n",
              " 'South Africa': ['London'],\n",
              " 'Egypt': ['Cairo'],\n",
              " 'Greece': ['Rio'],\n",
              " 'Trinidad and Tobago': ['California'],\n",
              " 'Mexico': ['China', 'California'],\n",
              " 'El Salvador': ['Berlin']}"
            ]
          },
          "execution_count": 31,
          "metadata": {},
          "output_type": "execute_result"
        }
      ],
      "source": [
        "entities.country_cities"
      ]
    },
    {
      "cell_type": "code",
      "execution_count": null,
      "metadata": {
        "colab": {
          "base_uri": "https://localhost:8080/"
        },
        "id": "c6u1y_lTE91o",
        "outputId": "f88afa73-30a6-412e-abae-64cbe31a825a"
      },
      "outputs": [
        {
          "data": {
            "text/plain": [
              "{'Tōkyō': ['Tokyo'],\n",
              " 'Maharashtra': ['Mumbai'],\n",
              " 'New South Wales': ['Sydney'],\n",
              " 'England': ['London'],\n",
              " 'Rome': ['Rome'],\n",
              " 'Dubai': ['Dubai'],\n",
              " 'Moscow': ['Moscow'],\n",
              " 'Land Berlin': ['Berlin'],\n",
              " 'Texas': ['London', 'Egypt', 'Paris', 'China', 'Italy', 'Moscow'],\n",
              " 'New York': ['Rome', 'Jamaica', 'Cairo'],\n",
              " 'Paris': ['Paris'],\n",
              " 'Missouri': ['California', 'Cairo'],\n",
              " 'Vermont': ['Jamaica'],\n",
              " 'Georgia': ['Rome', 'Cairo', 'Berlin'],\n",
              " 'Kentucky': ['Paris', 'London', 'California'],\n",
              " 'Ohio': ['London', 'Berlin', 'Rome', 'Russia', 'Paris', 'Moscow'],\n",
              " 'Illinois': ['Paris', 'Rio', 'Cairo'],\n",
              " 'Maryland': ['Berlin', 'California'],\n",
              " 'Ontario': ['London', 'Paris'],\n",
              " 'Connecticut': ['Berlin'],\n",
              " 'Indiana': ['Brazil'],\n",
              " 'Pennsylvania': ['California', 'Rome', 'Moscow', 'Berlin'],\n",
              " 'Nova Scotia': ['Sydney'],\n",
              " 'Tennessee': ['Paris', 'Moscow'],\n",
              " 'New Hampshire': ['Berlin'],\n",
              " '': ['Antarctica'],\n",
              " 'Rio de Janeiro': ['Rio de Janeiro'],\n",
              " 'Mpumalanga': ['London'],\n",
              " 'Muhafazat al Qahirah': ['Cairo'],\n",
              " 'Idaho': ['Moscow', 'Paris'],\n",
              " 'Maine': ['Paris'],\n",
              " 'Wisconsin': ['Rio', 'Berlin'],\n",
              " 'Massachusetts': ['Berlin'],\n",
              " 'New Jersey': ['Berlin'],\n",
              " 'Arkansas': ['Paris', 'London'],\n",
              " 'Iowa': ['Moscow'],\n",
              " 'West Virginia': ['Cairo', 'Rio'],\n",
              " 'Nebraska': ['Cairo'],\n",
              " 'Achaea': ['Rio'],\n",
              " 'Respublika Buryatiya': ['China'],\n",
              " 'Michigan': ['Paris'],\n",
              " 'South Carolina': ['Italy'],\n",
              " 'Virginia': ['Paris', 'California'],\n",
              " 'Couva-Tabaquite-Talparo': ['California'],\n",
              " 'Schleswig-Holstein': ['Berlin'],\n",
              " 'Estado do Parana': ['California'],\n",
              " 'Kansas': ['Moscow'],\n",
              " 'Nuevo León': ['China'],\n",
              " 'Departamento de Usulutan': ['Berlin'],\n",
              " 'Coahuila': ['California'],\n",
              " 'Nouvelle-Écosse': ['Sydney']}"
            ]
          },
          "execution_count": 32,
          "metadata": {},
          "output_type": "execute_result"
        }
      ],
      "source": [
        "entities.region_cities"
      ]
    }
  ],
  "metadata": {
    "colab": {
      "provenance": []
    },
    "kernelspec": {
      "display_name": "Python 3",
      "name": "python3"
    },
    "language_info": {
      "codemirror_mode": {
        "name": "ipython",
        "version": 3
      },
      "file_extension": ".py",
      "mimetype": "text/x-python",
      "name": "python",
      "nbconvert_exporter": "python",
      "pygments_lexer": "ipython3",
      "version": "3.10.4"
    }
  },
  "nbformat": 4,
  "nbformat_minor": 0
}
