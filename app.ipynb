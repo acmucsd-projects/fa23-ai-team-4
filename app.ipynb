{
 "cells": [
  {
   "cell_type": "code",
   "execution_count": 4,
   "metadata": {},
   "outputs": [
    {
     "data": {
      "text/plain": [
       "\"nltk.downloader.download('maxent_ne_chunker')\\nnltk.downloader.download('words')\\nnltk.downloader.download('treebank')\\nnltk.downloader.download('maxent_treebank_pos_tagger')\\nnltk.downloader.download('punkt')\\nnltk.download('averaged_perceptron_tagger')\""
      ]
     },
     "execution_count": 4,
     "metadata": {},
     "output_type": "execute_result"
    }
   ],
   "source": [
    "from flask import Flask, render_template, request, redirect, url_for, session, flash, Response\n",
    "import pycountry\n",
    "from geopy import geocoders\n",
    "import spacy\n",
    "import nltk\n",
    "from youtube_transcript_api import YouTubeTranscriptApi\n",
    "\n",
    "\"\"\"nltk.downloader.download('maxent_ne_chunker')\n",
    "nltk.downloader.download('words')\n",
    "nltk.downloader.download('treebank')\n",
    "nltk.downloader.download('maxent_treebank_pos_tagger')\n",
    "nltk.downloader.download('punkt')\n",
    "nltk.download('averaged_perceptron_tagger')\"\"\""
   ]
  },
  {
   "cell_type": "code",
   "execution_count": 9,
   "metadata": {},
   "outputs": [
    {
     "name": "stdout",
     "output_type": "stream",
     "text": [
      " * Serving Flask app '__main__'\n",
      " * Debug mode: on\n"
     ]
    },
    {
     "name": "stderr",
     "output_type": "stream",
     "text": [
      "\u001b[31m\u001b[1mWARNING: This is a development server. Do not use it in a production deployment. Use a production WSGI server instead.\u001b[0m\n",
      " * Running on http://127.0.0.1:5000\n",
      "\u001b[33mPress CTRL+C to quit\u001b[0m\n",
      " * Restarting with stat\n",
      "Traceback (most recent call last):\n",
      "  File \"/Library/Frameworks/Python.framework/Versions/3.10/lib/python3.10/runpy.py\", line 196, in _run_module_as_main\n",
      "    return _run_code(code, main_globals, None,\n",
      "  File \"/Library/Frameworks/Python.framework/Versions/3.10/lib/python3.10/runpy.py\", line 86, in _run_code\n",
      "    exec(code, run_globals)\n",
      "  File \"/Users/vishalpatel/Desktop/fa23-ai-team-byte-benders/.venv/lib/python3.10/site-packages/ipykernel_launcher.py\", line 17, in <module>\n",
      "    app.launch_new_instance()\n",
      "  File \"/Users/vishalpatel/Desktop/fa23-ai-team-byte-benders/.venv/lib/python3.10/site-packages/traitlets/config/application.py\", line 1052, in launch_instance\n",
      "    app.initialize(argv)\n",
      "  File \"/Users/vishalpatel/Desktop/fa23-ai-team-byte-benders/.venv/lib/python3.10/site-packages/traitlets/config/application.py\", line 117, in inner\n",
      "    return method(app, *args, **kwargs)\n",
      "  File \"/Users/vishalpatel/Desktop/fa23-ai-team-byte-benders/.venv/lib/python3.10/site-packages/ipykernel/kernelapp.py\", line 690, in initialize\n",
      "    self.init_sockets()\n",
      "  File \"/Users/vishalpatel/Desktop/fa23-ai-team-byte-benders/.venv/lib/python3.10/site-packages/ipykernel/kernelapp.py\", line 329, in init_sockets\n",
      "    self.shell_port = self._bind_socket(self.shell_socket, self.shell_port)\n",
      "  File \"/Users/vishalpatel/Desktop/fa23-ai-team-byte-benders/.venv/lib/python3.10/site-packages/ipykernel/kernelapp.py\", line 252, in _bind_socket\n",
      "    return self._try_bind_socket(s, port)\n",
      "  File \"/Users/vishalpatel/Desktop/fa23-ai-team-byte-benders/.venv/lib/python3.10/site-packages/ipykernel/kernelapp.py\", line 228, in _try_bind_socket\n",
      "    s.bind(\"tcp://%s:%i\" % (self.ip, port))\n",
      "  File \"/Users/vishalpatel/Desktop/fa23-ai-team-byte-benders/.venv/lib/python3.10/site-packages/zmq/sugar/socket.py\", line 302, in bind\n",
      "    super().bind(addr)\n",
      "  File \"zmq/backend/cython/socket.pyx\", line 564, in zmq.backend.cython.socket.Socket.bind\n",
      "  File \"zmq/backend/cython/checkrc.pxd\", line 28, in zmq.backend.cython.checkrc._check_rc\n",
      "zmq.error.ZMQError: Address already in use (addr='tcp://127.0.0.1:9002')\n"
     ]
    },
    {
     "ename": "SystemExit",
     "evalue": "1",
     "output_type": "error",
     "traceback": [
      "An exception has occurred, use %tb to see the full traceback.\n",
      "\u001b[0;31mSystemExit\u001b[0m\u001b[0;31m:\u001b[0m 1\n"
     ]
    },
    {
     "name": "stderr",
     "output_type": "stream",
     "text": [
      "/Users/vishalpatel/Desktop/fa23-ai-team-byte-benders/.venv/lib/python3.10/site-packages/IPython/core/interactiveshell.py:3556: UserWarning: To exit: use 'exit', 'quit', or Ctrl-D.\n",
      "  warn(\"To exit: use 'exit', 'quit', or Ctrl-D.\", stacklevel=1)\n"
     ]
    }
   ],
   "source": [
    "app = Flask(__name__)\n",
    "\n",
    "def GPE_extract(text):\n",
    "    nlp = spacy.load(\"en_core_web_sm\")\n",
    "    tokens = nlp(text)\n",
    "    token_list = []\n",
    "    for token in tokens.ents:\n",
    "        if token.label_ == \"GPE\":\n",
    "            if token.text.strip() not in token_list:\n",
    "                token_list.append(token.text.strip())\n",
    "    return token_list\n",
    "\n",
    "@app.route('/', methods=['GET', 'POST'])\n",
    "def home():\n",
    "    if request.method == 'POST':\n",
    "        youtube_url = request.form.get('youtubeUrl')\n",
    "\n",
    "        # Fetch the YouTube transcript\n",
    "        transcript = YouTubeTranscriptApi.get_transcript(youtube_url)\n",
    "        transcript_text = \" \".join(line[\"text\"].replace(\"\\n\", \" \") for line in transcript)\n",
    "\n",
    "        # Extract GPEs from the transcript\n",
    "        gpes = GPE_extract(transcript_text)\n",
    "\n",
    "        # Print the GPEs (for debugging purposes)\n",
    "        print(\"GPEs:\", gpes)\n",
    "\n",
    "        return render_template('home.html', gpes=gpes)\n",
    "\n",
    "    return render_template('home.html')\n",
    "\n",
    "if __name__ == '__main__':\n",
    "    app.run(debug=True)\n"
   ]
  }
 ],
 "metadata": {
  "kernelspec": {
   "display_name": ".venv",
   "language": "python",
   "name": "python3"
  },
  "language_info": {
   "codemirror_mode": {
    "name": "ipython",
    "version": 3
   },
   "file_extension": ".py",
   "mimetype": "text/x-python",
   "name": "python",
   "nbconvert_exporter": "python",
   "pygments_lexer": "ipython3",
   "version": "3.10.4"
  }
 },
 "nbformat": 4,
 "nbformat_minor": 2
}
