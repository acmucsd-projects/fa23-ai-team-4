{
  "nbformat": 4,
  "nbformat_minor": 0,
  "metadata": {
    "colab": {
      "provenance": []
    },
    "kernelspec": {
      "name": "python3",
      "display_name": "Python 3"
    },
    "language_info": {
      "name": "python"
    }
  },
  "cells": [
    {
      "cell_type": "code",
      "execution_count": 26,
      "metadata": {
        "colab": {
          "base_uri": "https://localhost:8080/"
        },
        "id": "sEqrz-6X9LlY",
        "outputId": "1dfe7b76-f238-467b-9f89-55b32bca7ea1"
      },
      "outputs": [
        {
          "output_type": "stream",
          "name": "stdout",
          "text": [
            "Requirement already satisfied: locationtagger in /usr/local/lib/python3.10/dist-packages (0.0.1)\n",
            "Requirement already satisfied: nltk in /usr/local/lib/python3.10/dist-packages (from locationtagger) (3.8.1)\n",
            "Requirement already satisfied: spacy in /usr/local/lib/python3.10/dist-packages (from locationtagger) (3.6.1)\n",
            "Requirement already satisfied: newspaper3k in /usr/local/lib/python3.10/dist-packages (from locationtagger) (0.2.8)\n",
            "Requirement already satisfied: pycountry in /usr/local/lib/python3.10/dist-packages (from locationtagger) (22.3.5)\n",
            "Requirement already satisfied: beautifulsoup4>=4.4.1 in /usr/local/lib/python3.10/dist-packages (from newspaper3k->locationtagger) (4.11.2)\n",
            "Requirement already satisfied: Pillow>=3.3.0 in /usr/local/lib/python3.10/dist-packages (from newspaper3k->locationtagger) (9.4.0)\n",
            "Requirement already satisfied: PyYAML>=3.11 in /usr/local/lib/python3.10/dist-packages (from newspaper3k->locationtagger) (6.0.1)\n",
            "Requirement already satisfied: cssselect>=0.9.2 in /usr/local/lib/python3.10/dist-packages (from newspaper3k->locationtagger) (1.2.0)\n",
            "Requirement already satisfied: lxml>=3.6.0 in /usr/local/lib/python3.10/dist-packages (from newspaper3k->locationtagger) (4.9.3)\n",
            "Requirement already satisfied: requests>=2.10.0 in /usr/local/lib/python3.10/dist-packages (from newspaper3k->locationtagger) (2.31.0)\n",
            "Requirement already satisfied: feedparser>=5.2.1 in /usr/local/lib/python3.10/dist-packages (from newspaper3k->locationtagger) (6.0.10)\n",
            "Requirement already satisfied: tldextract>=2.0.1 in /usr/local/lib/python3.10/dist-packages (from newspaper3k->locationtagger) (5.1.0)\n",
            "Requirement already satisfied: feedfinder2>=0.0.4 in /usr/local/lib/python3.10/dist-packages (from newspaper3k->locationtagger) (0.0.4)\n",
            "Requirement already satisfied: jieba3k>=0.35.1 in /usr/local/lib/python3.10/dist-packages (from newspaper3k->locationtagger) (0.35.1)\n",
            "Requirement already satisfied: python-dateutil>=2.5.3 in /usr/local/lib/python3.10/dist-packages (from newspaper3k->locationtagger) (2.8.2)\n",
            "Requirement already satisfied: tinysegmenter==0.3 in /usr/local/lib/python3.10/dist-packages (from newspaper3k->locationtagger) (0.3)\n",
            "Requirement already satisfied: click in /usr/local/lib/python3.10/dist-packages (from nltk->locationtagger) (8.1.7)\n",
            "Requirement already satisfied: joblib in /usr/local/lib/python3.10/dist-packages (from nltk->locationtagger) (1.3.2)\n",
            "Requirement already satisfied: regex>=2021.8.3 in /usr/local/lib/python3.10/dist-packages (from nltk->locationtagger) (2023.6.3)\n",
            "Requirement already satisfied: tqdm in /usr/local/lib/python3.10/dist-packages (from nltk->locationtagger) (4.66.1)\n",
            "Requirement already satisfied: setuptools in /usr/local/lib/python3.10/dist-packages (from pycountry->locationtagger) (67.7.2)\n",
            "Requirement already satisfied: spacy-legacy<3.1.0,>=3.0.11 in /usr/local/lib/python3.10/dist-packages (from spacy->locationtagger) (3.0.12)\n",
            "Requirement already satisfied: spacy-loggers<2.0.0,>=1.0.0 in /usr/local/lib/python3.10/dist-packages (from spacy->locationtagger) (1.0.5)\n",
            "Requirement already satisfied: murmurhash<1.1.0,>=0.28.0 in /usr/local/lib/python3.10/dist-packages (from spacy->locationtagger) (1.0.10)\n",
            "Requirement already satisfied: cymem<2.1.0,>=2.0.2 in /usr/local/lib/python3.10/dist-packages (from spacy->locationtagger) (2.0.8)\n",
            "Requirement already satisfied: preshed<3.1.0,>=3.0.2 in /usr/local/lib/python3.10/dist-packages (from spacy->locationtagger) (3.0.9)\n",
            "Requirement already satisfied: thinc<8.2.0,>=8.1.8 in /usr/local/lib/python3.10/dist-packages (from spacy->locationtagger) (8.1.12)\n",
            "Requirement already satisfied: wasabi<1.2.0,>=0.9.1 in /usr/local/lib/python3.10/dist-packages (from spacy->locationtagger) (1.1.2)\n",
            "Requirement already satisfied: srsly<3.0.0,>=2.4.3 in /usr/local/lib/python3.10/dist-packages (from spacy->locationtagger) (2.4.8)\n",
            "Requirement already satisfied: catalogue<2.1.0,>=2.0.6 in /usr/local/lib/python3.10/dist-packages (from spacy->locationtagger) (2.0.10)\n",
            "Requirement already satisfied: typer<0.10.0,>=0.3.0 in /usr/local/lib/python3.10/dist-packages (from spacy->locationtagger) (0.9.0)\n",
            "Requirement already satisfied: pathy>=0.10.0 in /usr/local/lib/python3.10/dist-packages (from spacy->locationtagger) (0.10.3)\n",
            "Requirement already satisfied: smart-open<7.0.0,>=5.2.1 in /usr/local/lib/python3.10/dist-packages (from spacy->locationtagger) (6.4.0)\n",
            "Requirement already satisfied: numpy>=1.15.0 in /usr/local/lib/python3.10/dist-packages (from spacy->locationtagger) (1.23.5)\n",
            "Requirement already satisfied: pydantic!=1.8,!=1.8.1,<3.0.0,>=1.7.4 in /usr/local/lib/python3.10/dist-packages (from spacy->locationtagger) (1.10.13)\n",
            "Requirement already satisfied: jinja2 in /usr/local/lib/python3.10/dist-packages (from spacy->locationtagger) (3.1.2)\n",
            "Requirement already satisfied: packaging>=20.0 in /usr/local/lib/python3.10/dist-packages (from spacy->locationtagger) (23.2)\n",
            "Requirement already satisfied: langcodes<4.0.0,>=3.2.0 in /usr/local/lib/python3.10/dist-packages (from spacy->locationtagger) (3.3.0)\n",
            "Requirement already satisfied: soupsieve>1.2 in /usr/local/lib/python3.10/dist-packages (from beautifulsoup4>=4.4.1->newspaper3k->locationtagger) (2.5)\n",
            "Requirement already satisfied: six in /usr/local/lib/python3.10/dist-packages (from feedfinder2>=0.0.4->newspaper3k->locationtagger) (1.16.0)\n",
            "Requirement already satisfied: sgmllib3k in /usr/local/lib/python3.10/dist-packages (from feedparser>=5.2.1->newspaper3k->locationtagger) (1.0.0)\n",
            "Requirement already satisfied: typing-extensions>=4.2.0 in /usr/local/lib/python3.10/dist-packages (from pydantic!=1.8,!=1.8.1,<3.0.0,>=1.7.4->spacy->locationtagger) (4.5.0)\n",
            "Requirement already satisfied: charset-normalizer<4,>=2 in /usr/local/lib/python3.10/dist-packages (from requests>=2.10.0->newspaper3k->locationtagger) (3.3.2)\n",
            "Requirement already satisfied: idna<4,>=2.5 in /usr/local/lib/python3.10/dist-packages (from requests>=2.10.0->newspaper3k->locationtagger) (3.4)\n",
            "Requirement already satisfied: urllib3<3,>=1.21.1 in /usr/local/lib/python3.10/dist-packages (from requests>=2.10.0->newspaper3k->locationtagger) (2.0.7)\n",
            "Requirement already satisfied: certifi>=2017.4.17 in /usr/local/lib/python3.10/dist-packages (from requests>=2.10.0->newspaper3k->locationtagger) (2023.7.22)\n",
            "Requirement already satisfied: blis<0.8.0,>=0.7.8 in /usr/local/lib/python3.10/dist-packages (from thinc<8.2.0,>=8.1.8->spacy->locationtagger) (0.7.11)\n",
            "Requirement already satisfied: confection<1.0.0,>=0.0.1 in /usr/local/lib/python3.10/dist-packages (from thinc<8.2.0,>=8.1.8->spacy->locationtagger) (0.1.3)\n",
            "Requirement already satisfied: requests-file>=1.4 in /usr/local/lib/python3.10/dist-packages (from tldextract>=2.0.1->newspaper3k->locationtagger) (1.5.1)\n",
            "Requirement already satisfied: filelock>=3.0.8 in /usr/local/lib/python3.10/dist-packages (from tldextract>=2.0.1->newspaper3k->locationtagger) (3.13.1)\n",
            "Requirement already satisfied: MarkupSafe>=2.0 in /usr/local/lib/python3.10/dist-packages (from jinja2->spacy->locationtagger) (2.1.3)\n",
            "Requirement already satisfied: newspaper3k in /usr/local/lib/python3.10/dist-packages (0.2.8)\n",
            "Requirement already satisfied: beautifulsoup4>=4.4.1 in /usr/local/lib/python3.10/dist-packages (from newspaper3k) (4.11.2)\n",
            "Requirement already satisfied: Pillow>=3.3.0 in /usr/local/lib/python3.10/dist-packages (from newspaper3k) (9.4.0)\n",
            "Requirement already satisfied: PyYAML>=3.11 in /usr/local/lib/python3.10/dist-packages (from newspaper3k) (6.0.1)\n",
            "Requirement already satisfied: cssselect>=0.9.2 in /usr/local/lib/python3.10/dist-packages (from newspaper3k) (1.2.0)\n",
            "Requirement already satisfied: lxml>=3.6.0 in /usr/local/lib/python3.10/dist-packages (from newspaper3k) (4.9.3)\n",
            "Requirement already satisfied: nltk>=3.2.1 in /usr/local/lib/python3.10/dist-packages (from newspaper3k) (3.8.1)\n",
            "Requirement already satisfied: requests>=2.10.0 in /usr/local/lib/python3.10/dist-packages (from newspaper3k) (2.31.0)\n",
            "Requirement already satisfied: feedparser>=5.2.1 in /usr/local/lib/python3.10/dist-packages (from newspaper3k) (6.0.10)\n",
            "Requirement already satisfied: tldextract>=2.0.1 in /usr/local/lib/python3.10/dist-packages (from newspaper3k) (5.1.0)\n",
            "Requirement already satisfied: feedfinder2>=0.0.4 in /usr/local/lib/python3.10/dist-packages (from newspaper3k) (0.0.4)\n",
            "Requirement already satisfied: jieba3k>=0.35.1 in /usr/local/lib/python3.10/dist-packages (from newspaper3k) (0.35.1)\n",
            "Requirement already satisfied: python-dateutil>=2.5.3 in /usr/local/lib/python3.10/dist-packages (from newspaper3k) (2.8.2)\n",
            "Requirement already satisfied: tinysegmenter==0.3 in /usr/local/lib/python3.10/dist-packages (from newspaper3k) (0.3)\n",
            "Requirement already satisfied: soupsieve>1.2 in /usr/local/lib/python3.10/dist-packages (from beautifulsoup4>=4.4.1->newspaper3k) (2.5)\n",
            "Requirement already satisfied: six in /usr/local/lib/python3.10/dist-packages (from feedfinder2>=0.0.4->newspaper3k) (1.16.0)\n",
            "Requirement already satisfied: sgmllib3k in /usr/local/lib/python3.10/dist-packages (from feedparser>=5.2.1->newspaper3k) (1.0.0)\n",
            "Requirement already satisfied: click in /usr/local/lib/python3.10/dist-packages (from nltk>=3.2.1->newspaper3k) (8.1.7)\n",
            "Requirement already satisfied: joblib in /usr/local/lib/python3.10/dist-packages (from nltk>=3.2.1->newspaper3k) (1.3.2)\n",
            "Requirement already satisfied: regex>=2021.8.3 in /usr/local/lib/python3.10/dist-packages (from nltk>=3.2.1->newspaper3k) (2023.6.3)\n",
            "Requirement already satisfied: tqdm in /usr/local/lib/python3.10/dist-packages (from nltk>=3.2.1->newspaper3k) (4.66.1)\n",
            "Requirement already satisfied: charset-normalizer<4,>=2 in /usr/local/lib/python3.10/dist-packages (from requests>=2.10.0->newspaper3k) (3.3.2)\n",
            "Requirement already satisfied: idna<4,>=2.5 in /usr/local/lib/python3.10/dist-packages (from requests>=2.10.0->newspaper3k) (3.4)\n",
            "Requirement already satisfied: urllib3<3,>=1.21.1 in /usr/local/lib/python3.10/dist-packages (from requests>=2.10.0->newspaper3k) (2.0.7)\n",
            "Requirement already satisfied: certifi>=2017.4.17 in /usr/local/lib/python3.10/dist-packages (from requests>=2.10.0->newspaper3k) (2023.7.22)\n",
            "Requirement already satisfied: requests-file>=1.4 in /usr/local/lib/python3.10/dist-packages (from tldextract>=2.0.1->newspaper3k) (1.5.1)\n",
            "Requirement already satisfied: filelock>=3.0.8 in /usr/local/lib/python3.10/dist-packages (from tldextract>=2.0.1->newspaper3k) (3.13.1)\n",
            "Requirement already satisfied: pycountry in /usr/local/lib/python3.10/dist-packages (22.3.5)\n",
            "Requirement already satisfied: setuptools in /usr/local/lib/python3.10/dist-packages (from pycountry) (67.7.2)\n",
            "2023-11-14 01:13:54.803151: E tensorflow/compiler/xla/stream_executor/cuda/cuda_dnn.cc:9342] Unable to register cuDNN factory: Attempting to register factory for plugin cuDNN when one has already been registered\n",
            "2023-11-14 01:13:54.803237: E tensorflow/compiler/xla/stream_executor/cuda/cuda_fft.cc:609] Unable to register cuFFT factory: Attempting to register factory for plugin cuFFT when one has already been registered\n",
            "2023-11-14 01:13:54.803282: E tensorflow/compiler/xla/stream_executor/cuda/cuda_blas.cc:1518] Unable to register cuBLAS factory: Attempting to register factory for plugin cuBLAS when one has already been registered\n",
            "2023-11-14 01:13:56.220902: W tensorflow/compiler/tf2tensorrt/utils/py_utils.cc:38] TF-TRT Warning: Could not find TensorRT\n",
            "Collecting en-core-web-sm==3.6.0\n",
            "  Downloading https://github.com/explosion/spacy-models/releases/download/en_core_web_sm-3.6.0/en_core_web_sm-3.6.0-py3-none-any.whl (12.8 MB)\n",
            "\u001b[2K     \u001b[90m━━━━━━━━━━━━━━━━━━━━━━━━━━━━━━━━━━━━━━━━\u001b[0m \u001b[32m12.8/12.8 MB\u001b[0m \u001b[31m51.4 MB/s\u001b[0m eta \u001b[36m0:00:00\u001b[0m\n",
            "\u001b[?25hRequirement already satisfied: spacy<3.7.0,>=3.6.0 in /usr/local/lib/python3.10/dist-packages (from en-core-web-sm==3.6.0) (3.6.1)\n",
            "Requirement already satisfied: spacy-legacy<3.1.0,>=3.0.11 in /usr/local/lib/python3.10/dist-packages (from spacy<3.7.0,>=3.6.0->en-core-web-sm==3.6.0) (3.0.12)\n",
            "Requirement already satisfied: spacy-loggers<2.0.0,>=1.0.0 in /usr/local/lib/python3.10/dist-packages (from spacy<3.7.0,>=3.6.0->en-core-web-sm==3.6.0) (1.0.5)\n",
            "Requirement already satisfied: murmurhash<1.1.0,>=0.28.0 in /usr/local/lib/python3.10/dist-packages (from spacy<3.7.0,>=3.6.0->en-core-web-sm==3.6.0) (1.0.10)\n",
            "Requirement already satisfied: cymem<2.1.0,>=2.0.2 in /usr/local/lib/python3.10/dist-packages (from spacy<3.7.0,>=3.6.0->en-core-web-sm==3.6.0) (2.0.8)\n",
            "Requirement already satisfied: preshed<3.1.0,>=3.0.2 in /usr/local/lib/python3.10/dist-packages (from spacy<3.7.0,>=3.6.0->en-core-web-sm==3.6.0) (3.0.9)\n",
            "Requirement already satisfied: thinc<8.2.0,>=8.1.8 in /usr/local/lib/python3.10/dist-packages (from spacy<3.7.0,>=3.6.0->en-core-web-sm==3.6.0) (8.1.12)\n",
            "Requirement already satisfied: wasabi<1.2.0,>=0.9.1 in /usr/local/lib/python3.10/dist-packages (from spacy<3.7.0,>=3.6.0->en-core-web-sm==3.6.0) (1.1.2)\n",
            "Requirement already satisfied: srsly<3.0.0,>=2.4.3 in /usr/local/lib/python3.10/dist-packages (from spacy<3.7.0,>=3.6.0->en-core-web-sm==3.6.0) (2.4.8)\n",
            "Requirement already satisfied: catalogue<2.1.0,>=2.0.6 in /usr/local/lib/python3.10/dist-packages (from spacy<3.7.0,>=3.6.0->en-core-web-sm==3.6.0) (2.0.10)\n",
            "Requirement already satisfied: typer<0.10.0,>=0.3.0 in /usr/local/lib/python3.10/dist-packages (from spacy<3.7.0,>=3.6.0->en-core-web-sm==3.6.0) (0.9.0)\n",
            "Requirement already satisfied: pathy>=0.10.0 in /usr/local/lib/python3.10/dist-packages (from spacy<3.7.0,>=3.6.0->en-core-web-sm==3.6.0) (0.10.3)\n",
            "Requirement already satisfied: smart-open<7.0.0,>=5.2.1 in /usr/local/lib/python3.10/dist-packages (from spacy<3.7.0,>=3.6.0->en-core-web-sm==3.6.0) (6.4.0)\n",
            "Requirement already satisfied: tqdm<5.0.0,>=4.38.0 in /usr/local/lib/python3.10/dist-packages (from spacy<3.7.0,>=3.6.0->en-core-web-sm==3.6.0) (4.66.1)\n",
            "Requirement already satisfied: numpy>=1.15.0 in /usr/local/lib/python3.10/dist-packages (from spacy<3.7.0,>=3.6.0->en-core-web-sm==3.6.0) (1.23.5)\n",
            "Requirement already satisfied: requests<3.0.0,>=2.13.0 in /usr/local/lib/python3.10/dist-packages (from spacy<3.7.0,>=3.6.0->en-core-web-sm==3.6.0) (2.31.0)\n",
            "Requirement already satisfied: pydantic!=1.8,!=1.8.1,<3.0.0,>=1.7.4 in /usr/local/lib/python3.10/dist-packages (from spacy<3.7.0,>=3.6.0->en-core-web-sm==3.6.0) (1.10.13)\n",
            "Requirement already satisfied: jinja2 in /usr/local/lib/python3.10/dist-packages (from spacy<3.7.0,>=3.6.0->en-core-web-sm==3.6.0) (3.1.2)\n",
            "Requirement already satisfied: setuptools in /usr/local/lib/python3.10/dist-packages (from spacy<3.7.0,>=3.6.0->en-core-web-sm==3.6.0) (67.7.2)\n",
            "Requirement already satisfied: packaging>=20.0 in /usr/local/lib/python3.10/dist-packages (from spacy<3.7.0,>=3.6.0->en-core-web-sm==3.6.0) (23.2)\n",
            "Requirement already satisfied: langcodes<4.0.0,>=3.2.0 in /usr/local/lib/python3.10/dist-packages (from spacy<3.7.0,>=3.6.0->en-core-web-sm==3.6.0) (3.3.0)\n",
            "Requirement already satisfied: typing-extensions>=4.2.0 in /usr/local/lib/python3.10/dist-packages (from pydantic!=1.8,!=1.8.1,<3.0.0,>=1.7.4->spacy<3.7.0,>=3.6.0->en-core-web-sm==3.6.0) (4.5.0)\n",
            "Requirement already satisfied: charset-normalizer<4,>=2 in /usr/local/lib/python3.10/dist-packages (from requests<3.0.0,>=2.13.0->spacy<3.7.0,>=3.6.0->en-core-web-sm==3.6.0) (3.3.2)\n",
            "Requirement already satisfied: idna<4,>=2.5 in /usr/local/lib/python3.10/dist-packages (from requests<3.0.0,>=2.13.0->spacy<3.7.0,>=3.6.0->en-core-web-sm==3.6.0) (3.4)\n",
            "Requirement already satisfied: urllib3<3,>=1.21.1 in /usr/local/lib/python3.10/dist-packages (from requests<3.0.0,>=2.13.0->spacy<3.7.0,>=3.6.0->en-core-web-sm==3.6.0) (2.0.7)\n",
            "Requirement already satisfied: certifi>=2017.4.17 in /usr/local/lib/python3.10/dist-packages (from requests<3.0.0,>=2.13.0->spacy<3.7.0,>=3.6.0->en-core-web-sm==3.6.0) (2023.7.22)\n",
            "Requirement already satisfied: blis<0.8.0,>=0.7.8 in /usr/local/lib/python3.10/dist-packages (from thinc<8.2.0,>=8.1.8->spacy<3.7.0,>=3.6.0->en-core-web-sm==3.6.0) (0.7.11)\n",
            "Requirement already satisfied: confection<1.0.0,>=0.0.1 in /usr/local/lib/python3.10/dist-packages (from thinc<8.2.0,>=8.1.8->spacy<3.7.0,>=3.6.0->en-core-web-sm==3.6.0) (0.1.3)\n",
            "Requirement already satisfied: click<9.0.0,>=7.1.1 in /usr/local/lib/python3.10/dist-packages (from typer<0.10.0,>=0.3.0->spacy<3.7.0,>=3.6.0->en-core-web-sm==3.6.0) (8.1.7)\n",
            "Requirement already satisfied: MarkupSafe>=2.0 in /usr/local/lib/python3.10/dist-packages (from jinja2->spacy<3.7.0,>=3.6.0->en-core-web-sm==3.6.0) (2.1.3)\n",
            "\u001b[38;5;2m✔ Download and installation successful\u001b[0m\n",
            "You can now load the package via spacy.load('en_core_web_sm')\n"
          ]
        },
        {
          "output_type": "stream",
          "name": "stderr",
          "text": [
            "[nltk_data] Downloading package maxent_ne_chunker to\n",
            "[nltk_data]     /root/nltk_data...\n",
            "[nltk_data]   Package maxent_ne_chunker is already up-to-date!\n",
            "[nltk_data] Downloading package words to /root/nltk_data...\n",
            "[nltk_data]   Package words is already up-to-date!\n",
            "[nltk_data] Downloading package treebank to /root/nltk_data...\n",
            "[nltk_data]   Package treebank is already up-to-date!\n",
            "[nltk_data] Downloading package maxent_treebank_pos_tagger to\n",
            "[nltk_data]     /root/nltk_data...\n",
            "[nltk_data]   Package maxent_treebank_pos_tagger is already up-to-\n",
            "[nltk_data]       date!\n",
            "[nltk_data] Downloading package punkt to /root/nltk_data...\n",
            "[nltk_data]   Package punkt is already up-to-date!\n",
            "[nltk_data] Downloading package averaged_perceptron_tagger to\n",
            "[nltk_data]     /root/nltk_data...\n",
            "[nltk_data]   Unzipping taggers/averaged_perceptron_tagger.zip.\n"
          ]
        },
        {
          "output_type": "execute_result",
          "data": {
            "text/plain": [
              "True"
            ]
          },
          "metadata": {},
          "execution_count": 26
        }
      ],
      "source": [
        "\n",
        "!pip install locationtagger\n",
        "!pip install newspaper3k\n",
        "!pip install pycountry\n",
        "\n",
        "import locationtagger\n",
        "import pycountry\n",
        "import newspaper\n",
        "\n",
        "!python -m spacy download en_core_web_sm\n",
        "\n",
        "from geopy import geocoders\n",
        "import spacy\n",
        "import nltk\n",
        "nltk.downloader.download('maxent_ne_chunker')\n",
        "nltk.downloader.download('words')\n",
        "nltk.downloader.download('treebank')\n",
        "nltk.downloader.download('maxent_treebank_pos_tagger')\n",
        "nltk.downloader.download('punkt')\n",
        "nltk.download('averaged_perceptron_tagger')"
      ]
    },
    {
      "cell_type": "code",
      "source": [
        "#loads the nlp \"english configuration\"\n",
        "nlp = spacy.load(\"en_core_web_sm\")"
      ],
      "metadata": {
        "id": "7lnJFkSC9Wkp"
      },
      "execution_count": 21,
      "outputs": []
    },
    {
      "cell_type": "code",
      "source": [
        "#this is an example text\n",
        "text = \"Paris, the capital of France, is known for its iconic Eiffel Tower. New York City, situated in the United States, is famous for Times Square. London, located in the United Kingdom, boasts historical landmarks like the Big Ben and Buckingham Palace. California, a state on the west coast of the United States, is known for Silicon Valley's tech industry. Tokyo, the capital of Japan, is a bustling metropolis with a mix of modern and traditional elements. Sydney, in Australia, is renowned for its Sydney Opera House. The Great Wall of China stretches across various provinces in China. Rio de Janeiro, in Brazil, is famous for its annual Carnival celebration. Berlin, the capital of Germany, has a rich history and vibrant arts scene. The Sahara Desert, located in Africa, is the largest hot desert in the world. The Amazon Rainforest, spanning multiple countries in South America, is home to diverse wildlife. Mount Everest, situated in the Himalayas, is the highest peak on Earth. Mumbai, in India, is a major financial and entertainment hub. Moscow, the capital of Russia, has a rich cultural heritage. Dubai, in the United Arab Emirates, is known for its modern architecture and luxury shopping. The Pyramids of Egypt, near Cairo, are ancient marvels. Antarctica, the southernmost continent, is covered in ice. The Caribbean Islands, including Jamaica and the Bahamas, are popular tourist destinations. The Vatican City, an independent city-state surrounded by Rome, is the smallest country in the world. The Grand Canyon, in Arizona, is a breathtaking natural wonder. The Colosseum in Rome, Italy, is an ancient amphitheater. In summary, this text includes a mix of cities, countries, states, and various landmarks across different continents\"\n",
        "\n",
        "tokens = nlp(text)\n",
        "token_lst = []\n",
        "#adds all the tokens that are a GPE into a list\n",
        "for token in tokens.ents:\n",
        "    if token.label_ == \"GPE\":\n",
        "        token_lst += [token.text]"
      ],
      "metadata": {
        "id": "eg5xKOjG9ZUt"
      },
      "execution_count": 22,
      "outputs": []
    },
    {
      "cell_type": "code",
      "source": [
        "#any token the starts with \"the\" has the \"the\" deleted\n",
        "for i in range(len(token_lst)):\n",
        "    if token_lst[i][0:3] == 'the':\n",
        "        token_lst[i] = token_lst[i][4:]"
      ],
      "metadata": {
        "id": "-vU3fhWF9fJN"
      },
      "execution_count": 23,
      "outputs": []
    },
    {
      "cell_type": "code",
      "source": [
        "#Find the latitude and longitude of the Location\n",
        "geocoder = geocoders.Nominatim(user_agent = \"location tagger\")\n",
        "for i in token_lst:\n",
        "  location = geocoder.geocode(i)\n",
        "  print(f\"Location: {i}, Latitude: {location.latitude}, Longitude: {location.longitude}\")\n"
      ],
      "metadata": {
        "colab": {
          "base_uri": "https://localhost:8080/"
        },
        "id": "LL5aY_pTHHF_",
        "outputId": "3eeb46db-e695-4b22-e7e8-be93ab155925"
      },
      "execution_count": 24,
      "outputs": [
        {
          "output_type": "stream",
          "name": "stdout",
          "text": [
            "Location: Paris, Latitude: 48.8534951, Longitude: 2.3483915\n",
            "Location: France, Latitude: 46.603354, Longitude: 1.8883335\n",
            "Location: New York City, Latitude: 40.7127281, Longitude: -74.0060152\n",
            "Location: United States, Latitude: 39.7837304, Longitude: -100.445882\n",
            "Location: London, Latitude: 51.5074456, Longitude: -0.1277653\n",
            "Location: United Kingdom, Latitude: 54.7023545, Longitude: -3.2765753\n",
            "Location: California, Latitude: 36.7014631, Longitude: -118.755997\n",
            "Location: United States, Latitude: 39.7837304, Longitude: -100.445882\n",
            "Location: Tokyo, Latitude: 35.6840574, Longitude: 139.7744912\n",
            "Location: Japan, Latitude: 36.5748441, Longitude: 139.2394179\n",
            "Location: Sydney, Latitude: -33.8698439, Longitude: 151.2082848\n",
            "Location: Australia, Latitude: -24.7761086, Longitude: 134.755\n",
            "Location: China, Latitude: 30.047992, Longitude: -94.3357433\n",
            "Location: Rio de Janeiro, Latitude: -22.9110137, Longitude: -43.2093727\n",
            "Location: Brazil, Latitude: -10.3333333, Longitude: -53.2\n",
            "Location: Berlin, Latitude: 52.5170365, Longitude: 13.3888599\n",
            "Location: Germany, Latitude: 40.4203479, Longitude: -79.1166983\n",
            "Location: Mumbai, Latitude: 19.08157715, Longitude: 72.88662753964906\n",
            "Location: India, Latitude: 22.3511148, Longitude: 78.6677428\n",
            "Location: Moscow, Latitude: 55.625578, Longitude: 37.6063916\n",
            "Location: Russia, Latitude: 40.2338211, Longitude: -84.4096729\n",
            "Location: Dubai, Latitude: 25.2653471, Longitude: 55.2924914\n",
            "Location: United Arab Emirates, Latitude: 24.0002488, Longitude: 53.9994829\n",
            "Location: Egypt, Latitude: 35.8681298, Longitude: -90.9456751\n",
            "Location: Cairo, Latitude: 30.0443879, Longitude: 31.2357257\n",
            "Location: Jamaica, Latitude: 18.1850507, Longitude: -77.3947693\n",
            "Location: Bahamas, Latitude: 24.7736546, Longitude: -78.0000547\n",
            "Location: Vatican City, Latitude: 41.903411, Longitude: 12.4528527\n",
            "Location: Rome, Latitude: 41.8933203, Longitude: 12.4829321\n",
            "Location: Arizona, Latitude: 34.395342, Longitude: -111.763275\n",
            "Location: Rome, Latitude: 41.8933203, Longitude: 12.4829321\n",
            "Location: Italy, Latitude: 42.6384261, Longitude: 12.674297\n"
          ]
        }
      ]
    },
    {
      "cell_type": "code",
      "source": [],
      "metadata": {
        "id": "YTUIbOLWVKau"
      },
      "execution_count": 24,
      "outputs": []
    },
    {
      "cell_type": "markdown",
      "source": [
        "The rest of the cell boxes are for the location tagger library. Produces incorrect information"
      ],
      "metadata": {
        "id": "ZUSwgjcQVED8"
      }
    },
    {
      "cell_type": "code",
      "source": [
        "entities = locationtagger.find_locations(text=text)"
      ],
      "metadata": {
        "id": "FFwvj72v9mF2"
      },
      "execution_count": 28,
      "outputs": []
    },
    {
      "cell_type": "code",
      "source": [
        "entities.countries"
      ],
      "metadata": {
        "colab": {
          "base_uri": "https://localhost:8080/"
        },
        "id": "DiARk5m0C0tA",
        "outputId": "06b8204a-94a3-41dc-80bb-d80d1e105ca5"
      },
      "execution_count": 29,
      "outputs": [
        {
          "output_type": "execute_result",
          "data": {
            "text/plain": [
              "['Germany',\n",
              " 'Brazil',\n",
              " 'Australia',\n",
              " 'France',\n",
              " 'Egypt',\n",
              " 'Italy',\n",
              " 'Bahamas',\n",
              " 'Japan',\n",
              " 'Antarctica',\n",
              " 'United Arab Emirates',\n",
              " 'Jamaica',\n",
              " 'United Kingdom',\n",
              " 'India',\n",
              " 'China',\n",
              " 'United States']"
            ]
          },
          "metadata": {},
          "execution_count": 29
        }
      ]
    },
    {
      "cell_type": "code",
      "source": [
        "entities.cities"
      ],
      "metadata": {
        "colab": {
          "base_uri": "https://localhost:8080/"
        },
        "id": "RiD9uCrgE5dA",
        "outputId": "3c624804-08b4-4fb0-ff39-0a36fb82f92e"
      },
      "execution_count": 30,
      "outputs": [
        {
          "output_type": "execute_result",
          "data": {
            "text/plain": [
              "['Tokyo',\n",
              " 'Mumbai',\n",
              " 'Sydney',\n",
              " 'London',\n",
              " 'Rome',\n",
              " 'Dubai',\n",
              " 'Moscow',\n",
              " 'Berlin',\n",
              " 'Paris',\n",
              " 'Jamaica',\n",
              " 'California',\n",
              " 'Egypt',\n",
              " 'Brazil',\n",
              " 'Cairo',\n",
              " 'Antarctica',\n",
              " 'Rio de Janeiro',\n",
              " 'Rio',\n",
              " 'China',\n",
              " 'Italy',\n",
              " 'Russia']"
            ]
          },
          "metadata": {},
          "execution_count": 30
        }
      ]
    },
    {
      "cell_type": "code",
      "source": [
        "entities.country_cities"
      ],
      "metadata": {
        "colab": {
          "base_uri": "https://localhost:8080/"
        },
        "id": "jOp--derE7_J",
        "outputId": "31dbc448-bcae-4dc6-ca32-a22c8ebac688"
      },
      "execution_count": 31,
      "outputs": [
        {
          "output_type": "execute_result",
          "data": {
            "text/plain": [
              "{'Japan': ['Tokyo'],\n",
              " 'India': ['Mumbai'],\n",
              " 'Australia': ['Sydney'],\n",
              " 'United Kingdom': ['London'],\n",
              " 'Italy': ['Rome'],\n",
              " 'United Arab Emirates': ['Dubai'],\n",
              " 'Russian Federation': ['Moscow', 'China'],\n",
              " 'Germany': ['Berlin'],\n",
              " 'United States': ['London',\n",
              "  'Rome',\n",
              "  'Jamaica',\n",
              "  'California',\n",
              "  'Egypt',\n",
              "  'Paris',\n",
              "  'Berlin',\n",
              "  'Brazil',\n",
              "  'Cairo',\n",
              "  'Moscow',\n",
              "  'Rio',\n",
              "  'China',\n",
              "  'Italy',\n",
              "  'Russia'],\n",
              " 'France': ['Paris'],\n",
              " 'Canada': ['London', 'Sydney', 'Paris'],\n",
              " 'Antarctica': ['Antarctica'],\n",
              " 'Brazil': ['Rio de Janeiro', 'California'],\n",
              " 'South Africa': ['London'],\n",
              " 'Egypt': ['Cairo'],\n",
              " 'Greece': ['Rio'],\n",
              " 'Trinidad and Tobago': ['California'],\n",
              " 'Mexico': ['China', 'California'],\n",
              " 'El Salvador': ['Berlin']}"
            ]
          },
          "metadata": {},
          "execution_count": 31
        }
      ]
    },
    {
      "cell_type": "code",
      "source": [
        "entities.region_cities"
      ],
      "metadata": {
        "colab": {
          "base_uri": "https://localhost:8080/"
        },
        "id": "c6u1y_lTE91o",
        "outputId": "f88afa73-30a6-412e-abae-64cbe31a825a"
      },
      "execution_count": 32,
      "outputs": [
        {
          "output_type": "execute_result",
          "data": {
            "text/plain": [
              "{'Tōkyō': ['Tokyo'],\n",
              " 'Maharashtra': ['Mumbai'],\n",
              " 'New South Wales': ['Sydney'],\n",
              " 'England': ['London'],\n",
              " 'Rome': ['Rome'],\n",
              " 'Dubai': ['Dubai'],\n",
              " 'Moscow': ['Moscow'],\n",
              " 'Land Berlin': ['Berlin'],\n",
              " 'Texas': ['London', 'Egypt', 'Paris', 'China', 'Italy', 'Moscow'],\n",
              " 'New York': ['Rome', 'Jamaica', 'Cairo'],\n",
              " 'Paris': ['Paris'],\n",
              " 'Missouri': ['California', 'Cairo'],\n",
              " 'Vermont': ['Jamaica'],\n",
              " 'Georgia': ['Rome', 'Cairo', 'Berlin'],\n",
              " 'Kentucky': ['Paris', 'London', 'California'],\n",
              " 'Ohio': ['London', 'Berlin', 'Rome', 'Russia', 'Paris', 'Moscow'],\n",
              " 'Illinois': ['Paris', 'Rio', 'Cairo'],\n",
              " 'Maryland': ['Berlin', 'California'],\n",
              " 'Ontario': ['London', 'Paris'],\n",
              " 'Connecticut': ['Berlin'],\n",
              " 'Indiana': ['Brazil'],\n",
              " 'Pennsylvania': ['California', 'Rome', 'Moscow', 'Berlin'],\n",
              " 'Nova Scotia': ['Sydney'],\n",
              " 'Tennessee': ['Paris', 'Moscow'],\n",
              " 'New Hampshire': ['Berlin'],\n",
              " '': ['Antarctica'],\n",
              " 'Rio de Janeiro': ['Rio de Janeiro'],\n",
              " 'Mpumalanga': ['London'],\n",
              " 'Muhafazat al Qahirah': ['Cairo'],\n",
              " 'Idaho': ['Moscow', 'Paris'],\n",
              " 'Maine': ['Paris'],\n",
              " 'Wisconsin': ['Rio', 'Berlin'],\n",
              " 'Massachusetts': ['Berlin'],\n",
              " 'New Jersey': ['Berlin'],\n",
              " 'Arkansas': ['Paris', 'London'],\n",
              " 'Iowa': ['Moscow'],\n",
              " 'West Virginia': ['Cairo', 'Rio'],\n",
              " 'Nebraska': ['Cairo'],\n",
              " 'Achaea': ['Rio'],\n",
              " 'Respublika Buryatiya': ['China'],\n",
              " 'Michigan': ['Paris'],\n",
              " 'South Carolina': ['Italy'],\n",
              " 'Virginia': ['Paris', 'California'],\n",
              " 'Couva-Tabaquite-Talparo': ['California'],\n",
              " 'Schleswig-Holstein': ['Berlin'],\n",
              " 'Estado do Parana': ['California'],\n",
              " 'Kansas': ['Moscow'],\n",
              " 'Nuevo León': ['China'],\n",
              " 'Departamento de Usulutan': ['Berlin'],\n",
              " 'Coahuila': ['California'],\n",
              " 'Nouvelle-Écosse': ['Sydney']}"
            ]
          },
          "metadata": {},
          "execution_count": 32
        }
      ]
    },
    {
      "cell_type": "code",
      "source": [],
      "metadata": {
        "id": "vcGRhhplZM9n"
      },
      "execution_count": null,
      "outputs": []
    }
  ]
}